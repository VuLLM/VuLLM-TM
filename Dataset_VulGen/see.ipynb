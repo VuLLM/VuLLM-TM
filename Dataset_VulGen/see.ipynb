{
 "cells": [
  {
   "cell_type": "code",
   "execution_count": null,
   "metadata": {},
   "outputs": [],
   "source": [
    "import pandas as pd\n",
    "import pickle\n",
    "\n",
    "# Read the CSV file\n",
    "df = pd.read_csv('vulgen_train_with_diff_lines_spaces.csv')\n",
    "\n",
    "# Print the updated DataFrame\n",
    "CVEFixes = []\n",
    "names = df['name'].tolist()\n",
    "for index, n in enumerate(names):\n",
    "    if \"CVEFixes\" in n:\n",
    "        CVEFixes.append((index, n.split(\"_\")[1]))\n",
    "print(len(CVEFixes))\n",
    "\n",
    "file_path = 'CVEFixes_train_commit_ids.pkl'\n",
    "with open(file_path, 'wb') as file:\n",
    "    pickle.dump(CVEFixes, file)"
   ]
  },
  {
   "cell_type": "code",
   "execution_count": 2,
   "metadata": {},
   "outputs": [
    {
     "name": "stdout",
     "output_type": "stream",
     "text": [
      "775 8602\n"
     ]
    }
   ],
   "source": [
    "import pandas as pd\n",
    "\n",
    "test = pd.read_csv('vulgen_test_775_with_diff_lines.csv')\n",
    "train = pd.read_csv('vulgen_train_drop_dup.csv')\n",
    "print(len(test), len(train))"
   ]
  },
  {
   "cell_type": "code",
   "execution_count": 2,
   "metadata": {},
   "outputs": [
    {
     "name": "stdout",
     "output_type": "stream",
     "text": [
      "['CWE-119', 'CWE-125', 'CWE-189', 'CWE-20', 'CWE-200', 'CWE-264', 'CWE-310', 'CWE-362', 'CWE-369', 'CWE-399', 'CWE-404', 'CWE-415', 'CWE-416', 'CWE-476', 'CWE-59', 'CWE-772', 'CWE-787']\n"
     ]
    }
   ],
   "source": [
    "import re\n",
    "\n",
    "# Your list of strings\n",
    "# Regular expression pattern for CWE numbers\n",
    "pattern = re.compile(r'CWE-\\d+')\n",
    "\n",
    "# Set to store unique CWE numbers\n",
    "cwe_numbers = set()\n",
    "\n",
    "# Iterate through the list and search for CWE numbers\n",
    "for string in names:\n",
    "    matches = pattern.findall(string)\n",
    "    for match in matches:\n",
    "        cwe_numbers.add(match)\n",
    "\n",
    "# Convert the set to a list and sort it\n",
    "cwe_numbers = sorted(list(cwe_numbers))\n",
    "\n",
    "print(cwe_numbers)"
   ]
  },
  {
   "cell_type": "code",
   "execution_count": 46,
   "metadata": {},
   "outputs": [],
   "source": []
  },
  {
   "cell_type": "code",
   "execution_count": 42,
   "metadata": {},
   "outputs": [],
   "source": [
    "# Convert final to a set for faster lookups\n",
    "final_set = set(final)\n",
    "\n",
    "# Create a dictionary to map commit_ids to their corresponding CWE_IDs\n",
    "commit_to_cwe = {com: cwe for com, cwe in zip(dataset['train']['commit_id'], dataset['train']['CWE_ID']) if cwe != 'NA'}\n",
    "\n",
    "# Now, iterate over the commit_ids and fetch the CWE_ID from the dictionary\n",
    "cwe_ids = [commit_to_cwe[commit] for commit in final_set if commit in commit_to_cwe]\n",
    "\n",
    "# If you want to ensure uniqueness and order is not important, convert to set and then back to list\n",
    "cwe_ids = list(set(cwe_ids))"
   ]
  },
  {
   "cell_type": "code",
   "execution_count": 43,
   "metadata": {},
   "outputs": [
    {
     "data": {
      "text/plain": [
       "['CWE',\n",
       " '17',\n",
       " '358',\n",
       " '119',\n",
       " '264',\n",
       " '190',\n",
       " '254',\n",
       " '416',\n",
       " '400',\n",
       " '200',\n",
       " '20',\n",
       " '125',\n",
       " '388',\n",
       " '787',\n",
       " '189',\n",
       " '19',\n",
       " '399',\n",
       " '415']"
      ]
     },
     "execution_count": 43,
     "metadata": {},
     "output_type": "execute_result"
    }
   ],
   "source": [
    "cwe_ids"
   ]
  },
  {
   "cell_type": "code",
   "execution_count": 32,
   "metadata": {},
   "outputs": [
    {
     "name": "stdout",
     "output_type": "stream",
     "text": [
      "1074\n"
     ]
    }
   ],
   "source": [
    "df = pd.read_csv('vulgen_test_with_diff_lines.csv')\n",
    "print(len(df))"
   ]
  },
  {
   "cell_type": "code",
   "execution_count": 2,
   "metadata": {},
   "outputs": [
    {
     "data": {
      "application/vnd.jupyter.widget-view+json": {
       "model_id": "794f33d29c64404ab182d6050b50546d",
       "version_major": 2,
       "version_minor": 0
      },
      "text/plain": [
       "Downloading readme:   0%|          | 0.00/3.33k [00:00<?, ?B/s]"
      ]
     },
     "metadata": {},
     "output_type": "display_data"
    },
    {
     "data": {
      "application/vnd.jupyter.widget-view+json": {
       "model_id": "de1a814ed6be4c5da42b75fc490081ac",
       "version_major": 2,
       "version_minor": 0
      },
      "text/plain": [
       "Downloading data files:   0%|          | 0/1 [00:00<?, ?it/s]"
      ]
     },
     "metadata": {},
     "output_type": "display_data"
    },
    {
     "data": {
      "application/vnd.jupyter.widget-view+json": {
       "model_id": "ff9dc51de1694b8d887702d6cc082655",
       "version_major": 2,
       "version_minor": 0
      },
      "text/plain": [
       "Downloading data:   0%|          | 0.00/145M [00:00<?, ?B/s]"
      ]
     },
     "metadata": {},
     "output_type": "display_data"
    },
    {
     "data": {
      "application/vnd.jupyter.widget-view+json": {
       "model_id": "d0ec3cd897f047258a10bcb5c05432ce",
       "version_major": 2,
       "version_minor": 0
      },
      "text/plain": [
       "Extracting data files:   0%|          | 0/1 [00:00<?, ?it/s]"
      ]
     },
     "metadata": {},
     "output_type": "display_data"
    },
    {
     "data": {
      "application/vnd.jupyter.widget-view+json": {
       "model_id": "439eb0817003409bb37b7ef3e49c444a",
       "version_major": 2,
       "version_minor": 0
      },
      "text/plain": [
       "Generating train split: 0 examples [00:00, ? examples/s]"
      ]
     },
     "metadata": {},
     "output_type": "display_data"
    }
   ],
   "source": [
    "from datasets import load_dataset\n",
    "\n",
    "# If the dataset is gated/private, make sure you have run huggingface-cli login\n",
    "dataset = load_dataset(\"sunlab/patch_db\")"
   ]
  },
  {
   "cell_type": "code",
   "execution_count": null,
   "metadata": {},
   "outputs": [],
   "source": []
  }
 ],
 "metadata": {
  "kernelspec": {
   "display_name": "vulinject",
   "language": "python",
   "name": "python3"
  },
  "language_info": {
   "codemirror_mode": {
    "name": "ipython",
    "version": 3
   },
   "file_extension": ".py",
   "mimetype": "text/x-python",
   "name": "python",
   "nbconvert_exporter": "python",
   "pygments_lexer": "ipython3",
   "version": "3.10.9"
  }
 },
 "nbformat": 4,
 "nbformat_minor": 2
}
