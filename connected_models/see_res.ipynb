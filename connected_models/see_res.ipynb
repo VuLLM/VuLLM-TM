{
 "cells": [
  {
   "cell_type": "code",
   "execution_count": 1,
   "metadata": {},
   "outputs": [
    {
     "name": "stdout",
     "output_type": "stream",
     "text": [
      "/sise/home/urizlo/Fine_tuning_T5\n"
     ]
    }
   ],
   "source": [
    "import pandas as pd\n",
    "%cd ..\n",
    "res = pd.read_csv('connected_models/generated_vul/juliet_vul_func1.csv')\n",
    "data = pd.read_csv('Dataset_VulGen/non-vulnerable-funcs-juliet_after_delete_print.csv')"
   ]
  },
  {
   "cell_type": "code",
   "execution_count": 2,
   "metadata": {},
   "outputs": [
    {
     "name": "stdout",
     "output_type": "stream",
     "text": [
      "629\n"
     ]
    }
   ],
   "source": [
    "from torch import le\n",
    "\n",
    "\n",
    "indexs = []\n",
    "for i in range(len(res)):\n",
    "    if type(res['func1_local'].iloc[i]) != float and \"print\" in res['func1_local'].iloc[i]:\n",
    "        indexs.append(i)\n",
    "print(len(indexs))"
   ]
  },
  {
   "cell_type": "code",
   "execution_count": 3,
   "metadata": {},
   "outputs": [],
   "source": [
    "res = res.drop(indexs)\n",
    "res = res.reset_index(drop=True)\n",
    "data = data.drop(indexs)\n",
    "data = data.reset_index(drop=True)"
   ]
  },
  {
   "cell_type": "code",
   "execution_count": 4,
   "metadata": {},
   "outputs": [],
   "source": [
    "data.to_csv('Dataset_VulGen/non-vulnerable-funcs-juliet_after_delete_print.csv', index=False)"
   ]
  },
  {
   "cell_type": "code",
   "execution_count": 5,
   "metadata": {},
   "outputs": [],
   "source": [
    "res.to_csv('connected_models/localization_results/func1_local_remove_print.csv', index=False)"
   ]
  },
  {
   "cell_type": "code",
   "execution_count": 12,
   "metadata": {},
   "outputs": [],
   "source": [
    "import json\n",
    "import random\n",
    "\n",
    "file_path = \"./Datasets/diversevul_20230702.json\"\n",
    "\n",
    "data = []\n",
    "with open(file_path, \"r\") as file:\n",
    "    for line in file:\n",
    "        try:\n",
    "            json_obj = json.loads(line)\n",
    "            data.append(json_obj)\n",
    "        except json.JSONDecodeError as e:\n",
    "            print(f\"Error parsing JSON on line: {line}\")\n",
    "            print(f\"Error details: {e}\")\n",
    "for d in data:\n",
    "    del d['cwe']\n",
    "    del d['project']\n",
    "    del d['commit_id']\n",
    "    del d['hash']\n",
    "    del d['size']\n",
    "    del d['message']\n",
    "\n",
    "# Filter samples with target == 0\n",
    "filtered_data = [d for d in data if d.get('target') == 0 and len(d.get('func')) < 4000]\n",
    "\n",
    "# Randomly select 1000 samples\n",
    "random_samples = random.sample(filtered_data, k=2000)\n",
    "\n",
    "# Write the selected samples to a new JSON file\n",
    "new_file_path = \"./Datasets/non-vul_1000_samples.json\"\n",
    "with open(new_file_path, \"w\") as file:\n",
    "    for sample in random_samples:\n",
    "        json.dump(sample, file)\n",
    "        file.write('\\n')\n",
    "\n"
   ]
  },
  {
   "cell_type": "code",
   "execution_count": 2,
   "metadata": {},
   "outputs": [
    {
     "name": "stdout",
     "output_type": "stream",
     "text": [
      "1560\n"
     ]
    }
   ],
   "source": [
    "import pandas as pd\n",
    "\n",
    "vul = pd.read_csv('./generated_vul/diversevul_final.csv')\n",
    "count = 0\n",
    "for index, row in vul.iterrows():\n",
    "    if type(row['vul']) != float and row['vul'] not in ['IS NAN', 'no location', 'wrong location'] and not row['vul'].startswith('Error') and not row['vul'].startswith('list index out of range'):\n",
    "        count += 1\n",
    "print(count)"
   ]
  },
  {
   "cell_type": "code",
   "execution_count": 3,
   "metadata": {},
   "outputs": [
    {
     "name": "stdout",
     "output_type": "stream",
     "text": [
      "989\n"
     ]
    }
   ],
   "source": [
    "import pandas as pd\n",
    "\n",
    "df = pd.read_csv('./generated_vul/vulgen_res.csv')\n",
    "print(len(df))"
   ]
  },
  {
   "cell_type": "code",
   "execution_count": 2,
   "metadata": {},
   "outputs": [],
   "source": [
    "import hashlib\n",
    "def drop_duplicates(df):\n",
    "    function_groups = {}\n",
    "\n",
    "    for i in range(len(df)):\n",
    "        nonvul = df['nonvul'].iloc[i]\n",
    "        lines_after_fix = df['lines_after_fix'].iloc[i]\n",
    "        \n",
    "        # Split the file content into functions (assuming functions are well-defined)\n",
    "        row = nonvul + lines_after_fix  # Change this based on your function definitions\n",
    "        function_hash = hashlib.sha256(row.encode()).hexdigest()\n",
    "        if function_hash not in function_groups:\n",
    "            function_groups[function_hash] = []\n",
    "        function_groups[function_hash].append(i)\n",
    "\n",
    "    indexes_to_drop = [index for index_list in function_groups.values() if len(index_list) > 1 for index in index_list[1:]]\n",
    "    df = df.drop(indexes_to_drop)\n",
    "    df = df.reset_index(drop=True)\n",
    "    return df"
   ]
  },
  {
   "cell_type": "code",
   "execution_count": 95,
   "metadata": {},
   "outputs": [],
   "source": [
    "import pandas as pd\n",
    "import pickle\n",
    "nonvul = pd.read_csv('../Dataset_VulGen/vulgen_test_with_diff_lines_spaces.csv')\n",
    "nonvul = nonvul.fillna(\"\")\n",
    "local = pd.read_csv('./localization_results/local_res_drop_duplicate.csv')\n",
    "inject = pd.read_csv('./injection_results/inject_res_drop_duplicate.csv')\n",
    "# nonvul = nonvul['nonvul'].tolist()\n",
    "local = local['local_res'].tolist()\n",
    "inject = inject['inject_res'].tolist()"
   ]
  },
  {
   "cell_type": "code",
   "execution_count": 96,
   "metadata": {},
   "outputs": [
    {
     "name": "stdout",
     "output_type": "stream",
     "text": [
      "30\n",
      "40\n",
      "121\n",
      "280\n",
      "342\n",
      "447\n",
      "680\n",
      "721\n",
      "895\n",
      "898\n",
      "925\n",
      "951\n",
      "985\n",
      "1002\n",
      "1003\n",
      "1013\n"
     ]
    }
   ],
   "source": [
    "for i, (loc, inj, nonvu) in enumerate(zip(local, inject, nonvul['nonvul'].tolist())):\n",
    "    l = loc.split('\\n')\n",
    "    inj = inj.split('\\n')\n",
    "    non = nonvu.split('\\n')\n",
    "    if len(l) < len(inj) and len(non) < 20:\n",
    "        print(i)\n",
    "        # break"
   ]
  },
  {
   "cell_type": "code",
   "execution_count": 129,
   "metadata": {},
   "outputs": [
    {
     "name": "stdout",
     "output_type": "stream",
     "text": [
      "     return cdc_ncm_bind_common(dev, intf, CDC_NCM_DATA_ALTSETTING_NCM, 0); }\n"
     ]
    }
   ],
   "source": [
    "print(local[40])"
   ]
  },
  {
   "cell_type": "code",
   "execution_count": 130,
   "metadata": {},
   "outputs": [
    {
     "name": "stdout",
     "output_type": "stream",
     "text": [
      "A:static int cdc_ncm_bind(struct usbnet *dev, struct usb_interface *intf) {<endRow>    int ret;\n",
      "     ret = cdc_ncm_bind_common(dev, intf, CDC_NCM_DATA_ALTSETTING_NCM, 0);<s>     usbnet_link_change(dev, 0, 0);<s>     return ret; }\n"
     ]
    }
   ],
   "source": [
    "print(inject[40])"
   ]
  },
  {
   "cell_type": "code",
   "execution_count": 131,
   "metadata": {},
   "outputs": [
    {
     "name": "stdout",
     "output_type": "stream",
     "text": [
      "static int cdc_ncm_bind(struct usbnet *dev, struct usb_interface *intf) {\n",
      "    int ret;\n",
      "    if (cdc_ncm_select_altsetting(intf) != CDC_NCM_COMM_ALTSETTING_NCM)\n",
      "        return -ENODEV;\n",
      "    ret = cdc_ncm_bind_common(dev, intf, CDC_NCM_DATA_ALTSETTING_NCM, 0);\n",
      "    usbnet_link_change(dev, 0, 0);\n",
      "    return ret; }\n"
     ]
    }
   ],
   "source": [
    "print(nonvul['vul'].iloc[40])"
   ]
  },
  {
   "cell_type": "code",
   "execution_count": 98,
   "metadata": {},
   "outputs": [
    {
     "name": "stdout",
     "output_type": "stream",
     "text": [
      "int cosine_seek_read(wtap *wth, gint64 seek_off, struct wtap_pkthdr *phdr, Buffer *buf, int *err, gchar **err_info) {\n",
      "    char line[COSINE_LINE_LENGTH];\n",
      "    if (file_seek(wth->random_fh, seek_off, SEEK_SET, err) == -1)\n",
      "        return FALSE;\n",
      "    if (file_gets(line, COSINE_LINE_LENGTH, wth->random_fh) == NULL) {\n",
      "        *err = file_error(wth->random_fh, err_info);\n",
      "        if (*err == 0) {\n",
      "            *err = WTAP_ERR_SHORT_READ; }\n",
      "        return FALSE; }\n",
      "    return parse_cosine_packet(wth->random_fh, phdr, buf, line, err, err_info); }\n"
     ]
    }
   ],
   "source": [
    "print(nonvul['nonvul'].iloc[121])"
   ]
  },
  {
   "cell_type": "code",
   "execution_count": 45,
   "metadata": {},
   "outputs": [
    {
     "name": "stdout",
     "output_type": "stream",
     "text": [
      "77\n"
     ]
    }
   ],
   "source": [
    "def find_non_continuous_indices(nonvul, local):\n",
    "    non_continuous_indices = []\n",
    "\n",
    "    for i, (function_code, local_code) in enumerate(zip(nonvul, local)):\n",
    "        # Split the function and local code into lines\n",
    "        function_lines = function_code.split('\\n')\n",
    "        local_lines = local_code.split('\\n')\n",
    "        in_row = False\n",
    "        start = False\n",
    "        loc = local_lines[0]\n",
    "        l1 = 0\n",
    "        for l2, line in enumerate(function_lines):\n",
    "            if loc.strip() == line.strip():\n",
    "                while local_lines[l1].strip() == function_lines[l2].strip():\n",
    "                    start = True\n",
    "                    l1 += 1\n",
    "                    l2 += 1\n",
    "                    if l1 >= len(local_lines) or l2 >= len(function_lines):\n",
    "                        in_row = True\n",
    "                        break\n",
    "                if not in_row:\n",
    "                    non_continuous_indices.append(i)\n",
    "            if start:\n",
    "                break\n",
    "            \n",
    "\n",
    "    return non_continuous_indices\n",
    "\n",
    "non_continuous_indices = find_non_continuous_indices(nonvul, local)\n",
    "print(len(non_continuous_indices))"
   ]
  },
  {
   "cell_type": "code",
   "execution_count": 46,
   "metadata": {},
   "outputs": [
    {
     "data": {
      "text/plain": [
       "[32,\n",
       " 36,\n",
       " 41,\n",
       " 56,\n",
       " 69,\n",
       " 71,\n",
       " 101,\n",
       " 104,\n",
       " 109,\n",
       " 111,\n",
       " 116,\n",
       " 123,\n",
       " 130,\n",
       " 156,\n",
       " 167,\n",
       " 212,\n",
       " 220,\n",
       " 229,\n",
       " 237,\n",
       " 238,\n",
       " 239,\n",
       " 242,\n",
       " 246,\n",
       " 255,\n",
       " 260,\n",
       " 279,\n",
       " 311,\n",
       " 324,\n",
       " 358,\n",
       " 360,\n",
       " 361,\n",
       " 364,\n",
       " 368,\n",
       " 384,\n",
       " 401,\n",
       " 419,\n",
       " 434,\n",
       " 436,\n",
       " 493,\n",
       " 494,\n",
       " 498,\n",
       " 510,\n",
       " 528,\n",
       " 568,\n",
       " 616,\n",
       " 618,\n",
       " 632,\n",
       " 637,\n",
       " 638,\n",
       " 639,\n",
       " 647,\n",
       " 650,\n",
       " 669,\n",
       " 698,\n",
       " 704,\n",
       " 709,\n",
       " 755,\n",
       " 763,\n",
       " 815,\n",
       " 820,\n",
       " 824,\n",
       " 861,\n",
       " 907,\n",
       " 912,\n",
       " 950,\n",
       " 952,\n",
       " 966,\n",
       " 992,\n",
       " 1007,\n",
       " 1014,\n",
       " 1046,\n",
       " 1047,\n",
       " 1048,\n",
       " 1049,\n",
       " 1051,\n",
       " 1059,\n",
       " 1062]"
      ]
     },
     "execution_count": 46,
     "metadata": {},
     "output_type": "execute_result"
    }
   ],
   "source": [
    "non_continuous_indices"
   ]
  },
  {
   "cell_type": "code",
   "execution_count": 75,
   "metadata": {},
   "outputs": [
    {
     "name": "stdout",
     "output_type": "stream",
     "text": [
      "     if (ps_dec->u4_init_dec_flag && ps_dec->s_prev_seq_params.u1_eoseq_pending) {\n",
      "         if ((ps_cur_slice->u1_slice_type!= I_SLICE) && (ps_dec->i4_degrade_pic_cnt!= ps_dec->i4_nondegrade_interval))\n",
      "             ps_cur_slice_type = PIC_TYPE_I;\n"
     ]
    }
   ],
   "source": [
    "print(local[5])"
   ]
  }
 ],
 "metadata": {
  "kernelspec": {
   "display_name": "vulinject",
   "language": "python",
   "name": "python3"
  },
  "language_info": {
   "codemirror_mode": {
    "name": "ipython",
    "version": 3
   },
   "file_extension": ".py",
   "mimetype": "text/x-python",
   "name": "python",
   "nbconvert_exporter": "python",
   "pygments_lexer": "ipython3",
   "version": "3.10.9"
  }
 },
 "nbformat": 4,
 "nbformat_minor": 2
}
